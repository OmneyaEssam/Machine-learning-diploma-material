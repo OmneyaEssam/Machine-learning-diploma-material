{
 "cells": [
  {
   "cell_type": "code",
   "execution_count": null,
   "metadata": {},
   "outputs": [],
   "source": [
    "def sub(list):\n",
    "    for i in range(len(list)-1):\n",
    "        prod = list[i]-list[i+1]\n",
    "    return prod"
   ]
  },
  {
   "cell_type": "code",
   "execution_count": null,
   "metadata": {},
   "outputs": [],
   "source": [
    "# Omneya Essam Kamal\n",
    "\n",
    "a=[]\n",
    "summation=0\n",
    "multiplication=1\n",
    "subtraction=0\n",
    "\n",
    "\n",
    "operation=input('enter operation ')\n",
    "b=int(input('enter number of elements '))\n",
    "for i in range(b):\n",
    "    c=int(input('enter element '))\n",
    "    a.append(c)\n",
    "    \n",
    "print(a)\n",
    "\n",
    "for f in range(b):\n",
    "    if (operation ==  '+'):\n",
    "        summation = summation + a[f]\n",
    "        result=summation        \n",
    "    elif (operation == '-'):\n",
    "       # a[f]= a[f] - a[f+1]\n",
    "        result=sub(a)\n",
    "    else:\n",
    "        multiplication = multiplication * a[f]\n",
    "        result=multiplication\n",
    "\n",
    "       \n",
    "print(result)"
   ]
  },
  {
   "cell_type": "code",
   "execution_count": null,
   "metadata": {
    "collapsed": true
   },
   "outputs": [],
   "source": []
  }
 ],
 "metadata": {
  "kernelspec": {
   "display_name": "Python 3",
   "language": "python",
   "name": "python3"
  },
  "language_info": {
   "codemirror_mode": {
    "name": "ipython",
    "version": 3
   },
   "file_extension": ".py",
   "mimetype": "text/x-python",
   "name": "python",
   "nbconvert_exporter": "python",
   "pygments_lexer": "ipython3",
   "version": "3.6.1"
  }
 },
 "nbformat": 4,
 "nbformat_minor": 2
}
