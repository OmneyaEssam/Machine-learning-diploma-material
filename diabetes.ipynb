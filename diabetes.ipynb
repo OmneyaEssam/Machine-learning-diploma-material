{
  "nbformat": 4,
  "nbformat_minor": 0,
  "metadata": {
    "colab": {
      "name": "diabetes.ipynb",
      "provenance": []
    },
    "kernelspec": {
      "name": "python3",
      "display_name": "Python 3"
    }
  },
  "cells": [
    {
      "cell_type": "code",
      "metadata": {
        "id": "8qTsgRifND1a",
        "colab_type": "code",
        "colab": {}
      },
      "source": [
        "import pandas as pd\n",
        "import numpy as np\n",
        "import matplotlib.pyplot as plt\n",
        "import seaborn as sns"
      ],
      "execution_count": 0,
      "outputs": []
    },
    {
      "cell_type": "code",
      "metadata": {
        "id": "ki3lO0E_NJHb",
        "colab_type": "code",
        "colab": {}
      },
      "source": [
        "df=pd.read_csv('diabetes.csv')"
      ],
      "execution_count": 0,
      "outputs": []
    },
    {
      "cell_type": "code",
      "metadata": {
        "id": "U-pWzn2bNrDJ",
        "colab_type": "code",
        "colab": {
          "base_uri": "https://localhost:8080/",
          "height": 255
        },
        "outputId": "bcd839bc-8609-4282-cefa-1fc4d52b8ecf"
      },
      "source": [
        "df.info()"
      ],
      "execution_count": 3,
      "outputs": [
        {
          "output_type": "stream",
          "text": [
            "<class 'pandas.core.frame.DataFrame'>\n",
            "RangeIndex: 768 entries, 0 to 767\n",
            "Data columns (total 9 columns):\n",
            "Pregnancies                 768 non-null int64\n",
            "Glucose                     768 non-null int64\n",
            "BloodPressure               768 non-null int64\n",
            "SkinThickness               768 non-null int64\n",
            "Insulin                     768 non-null int64\n",
            "BMI                         768 non-null float64\n",
            "DiabetesPedigreeFunction    768 non-null float64\n",
            "Age                         768 non-null int64\n",
            "Outcome                     768 non-null int64\n",
            "dtypes: float64(2), int64(7)\n",
            "memory usage: 54.1 KB\n"
          ],
          "name": "stdout"
        }
      ]
    },
    {
      "cell_type": "code",
      "metadata": {
        "id": "fm-PrB1mNwQ8",
        "colab_type": "code",
        "colab": {
          "base_uri": "https://localhost:8080/",
          "height": 204
        },
        "outputId": "b2e6545e-74e6-49f5-8b85-9251abb3a06e"
      },
      "source": [
        "df.head()"
      ],
      "execution_count": 4,
      "outputs": [
        {
          "output_type": "execute_result",
          "data": {
            "text/html": [
              "<div>\n",
              "<style scoped>\n",
              "    .dataframe tbody tr th:only-of-type {\n",
              "        vertical-align: middle;\n",
              "    }\n",
              "\n",
              "    .dataframe tbody tr th {\n",
              "        vertical-align: top;\n",
              "    }\n",
              "\n",
              "    .dataframe thead th {\n",
              "        text-align: right;\n",
              "    }\n",
              "</style>\n",
              "<table border=\"1\" class=\"dataframe\">\n",
              "  <thead>\n",
              "    <tr style=\"text-align: right;\">\n",
              "      <th></th>\n",
              "      <th>Pregnancies</th>\n",
              "      <th>Glucose</th>\n",
              "      <th>BloodPressure</th>\n",
              "      <th>SkinThickness</th>\n",
              "      <th>Insulin</th>\n",
              "      <th>BMI</th>\n",
              "      <th>DiabetesPedigreeFunction</th>\n",
              "      <th>Age</th>\n",
              "      <th>Outcome</th>\n",
              "    </tr>\n",
              "  </thead>\n",
              "  <tbody>\n",
              "    <tr>\n",
              "      <th>0</th>\n",
              "      <td>6</td>\n",
              "      <td>148</td>\n",
              "      <td>72</td>\n",
              "      <td>35</td>\n",
              "      <td>0</td>\n",
              "      <td>33.6</td>\n",
              "      <td>0.627</td>\n",
              "      <td>50</td>\n",
              "      <td>1</td>\n",
              "    </tr>\n",
              "    <tr>\n",
              "      <th>1</th>\n",
              "      <td>1</td>\n",
              "      <td>85</td>\n",
              "      <td>66</td>\n",
              "      <td>29</td>\n",
              "      <td>0</td>\n",
              "      <td>26.6</td>\n",
              "      <td>0.351</td>\n",
              "      <td>31</td>\n",
              "      <td>0</td>\n",
              "    </tr>\n",
              "    <tr>\n",
              "      <th>2</th>\n",
              "      <td>8</td>\n",
              "      <td>183</td>\n",
              "      <td>64</td>\n",
              "      <td>0</td>\n",
              "      <td>0</td>\n",
              "      <td>23.3</td>\n",
              "      <td>0.672</td>\n",
              "      <td>32</td>\n",
              "      <td>1</td>\n",
              "    </tr>\n",
              "    <tr>\n",
              "      <th>3</th>\n",
              "      <td>1</td>\n",
              "      <td>89</td>\n",
              "      <td>66</td>\n",
              "      <td>23</td>\n",
              "      <td>94</td>\n",
              "      <td>28.1</td>\n",
              "      <td>0.167</td>\n",
              "      <td>21</td>\n",
              "      <td>0</td>\n",
              "    </tr>\n",
              "    <tr>\n",
              "      <th>4</th>\n",
              "      <td>0</td>\n",
              "      <td>137</td>\n",
              "      <td>40</td>\n",
              "      <td>35</td>\n",
              "      <td>168</td>\n",
              "      <td>43.1</td>\n",
              "      <td>2.288</td>\n",
              "      <td>33</td>\n",
              "      <td>1</td>\n",
              "    </tr>\n",
              "  </tbody>\n",
              "</table>\n",
              "</div>"
            ],
            "text/plain": [
              "   Pregnancies  Glucose  BloodPressure  ...  DiabetesPedigreeFunction  Age  Outcome\n",
              "0            6      148             72  ...                     0.627   50        1\n",
              "1            1       85             66  ...                     0.351   31        0\n",
              "2            8      183             64  ...                     0.672   32        1\n",
              "3            1       89             66  ...                     0.167   21        0\n",
              "4            0      137             40  ...                     2.288   33        1\n",
              "\n",
              "[5 rows x 9 columns]"
            ]
          },
          "metadata": {
            "tags": []
          },
          "execution_count": 4
        }
      ]
    },
    {
      "cell_type": "code",
      "metadata": {
        "id": "e59OhKu7UUUQ",
        "colab_type": "code",
        "colab": {}
      },
      "source": [
        ""
      ],
      "execution_count": 0,
      "outputs": []
    },
    {
      "cell_type": "code",
      "metadata": {
        "id": "JxJQdECFYdx3",
        "colab_type": "code",
        "colab": {}
      },
      "source": [
        ""
      ],
      "execution_count": 0,
      "outputs": []
    },
    {
      "cell_type": "code",
      "metadata": {
        "id": "Z1rpqyjpU07V",
        "colab_type": "code",
        "colab": {}
      },
      "source": [
        ""
      ],
      "execution_count": 0,
      "outputs": []
    },
    {
      "cell_type": "code",
      "metadata": {
        "id": "XrHgaF6nOw8d",
        "colab_type": "code",
        "colab": {}
      },
      "source": [
        "X = df.iloc[:, :8].values\n",
        "y = df.iloc[:, -1].values"
      ],
      "execution_count": 0,
      "outputs": []
    },
    {
      "cell_type": "code",
      "metadata": {
        "id": "sppvN_ZUPgMg",
        "colab_type": "code",
        "colab": {
          "base_uri": "https://localhost:8080/",
          "height": 136
        },
        "outputId": "e0ff1f19-0e1d-4a04-f446-d4529bfd1d8c"
      },
      "source": [
        "X"
      ],
      "execution_count": 8,
      "outputs": [
        {
          "output_type": "execute_result",
          "data": {
            "text/plain": [
              "array([[  6.   , 148.   ,  72.   , ...,  33.6  ,   0.627,  50.   ],\n",
              "       [  1.   ,  85.   ,  66.   , ...,  26.6  ,   0.351,  31.   ],\n",
              "       [  8.   , 183.   ,  64.   , ...,  23.3  ,   0.672,  32.   ],\n",
              "       ...,\n",
              "       [  5.   , 121.   ,  72.   , ...,  26.2  ,   0.245,  30.   ],\n",
              "       [  1.   , 126.   ,  60.   , ...,  30.1  ,   0.349,  47.   ],\n",
              "       [  1.   ,  93.   ,  70.   , ...,  30.4  ,   0.315,  23.   ]])"
            ]
          },
          "metadata": {
            "tags": []
          },
          "execution_count": 8
        }
      ]
    },
    {
      "cell_type": "code",
      "metadata": {
        "id": "Ku_1VpjdPj6i",
        "colab_type": "code",
        "colab": {
          "base_uri": "https://localhost:8080/",
          "height": 612
        },
        "outputId": "f0340b32-b32f-4d8b-bbe6-0b6fcda8c657"
      },
      "source": [
        "y"
      ],
      "execution_count": 9,
      "outputs": [
        {
          "output_type": "execute_result",
          "data": {
            "text/plain": [
              "array([1, 0, 1, 0, 1, 0, 1, 0, 1, 1, 0, 1, 0, 1, 1, 1, 1, 1, 0, 1, 0, 0,\n",
              "       1, 1, 1, 1, 1, 0, 0, 0, 0, 1, 0, 0, 0, 0, 0, 1, 1, 1, 0, 0, 0, 1,\n",
              "       0, 1, 0, 0, 1, 0, 0, 0, 0, 1, 0, 0, 1, 0, 0, 0, 0, 1, 0, 0, 1, 0,\n",
              "       1, 0, 0, 0, 1, 0, 1, 0, 0, 0, 0, 0, 1, 0, 0, 0, 0, 0, 1, 0, 0, 0,\n",
              "       1, 0, 0, 0, 0, 1, 0, 0, 0, 0, 0, 1, 1, 0, 0, 0, 0, 0, 0, 0, 0, 1,\n",
              "       1, 1, 0, 0, 1, 1, 1, 0, 0, 0, 1, 0, 0, 0, 1, 1, 0, 0, 1, 1, 1, 1,\n",
              "       1, 0, 0, 0, 0, 0, 0, 0, 0, 0, 0, 1, 0, 0, 0, 0, 0, 0, 0, 0, 1, 0,\n",
              "       1, 1, 0, 0, 0, 1, 0, 0, 0, 0, 1, 1, 0, 0, 0, 0, 1, 1, 0, 0, 0, 1,\n",
              "       0, 1, 0, 1, 0, 0, 0, 0, 0, 1, 1, 1, 1, 1, 0, 0, 1, 1, 0, 1, 0, 1,\n",
              "       1, 1, 0, 0, 0, 0, 0, 0, 1, 1, 0, 1, 0, 0, 0, 1, 1, 1, 1, 0, 1, 1,\n",
              "       1, 1, 0, 0, 0, 0, 0, 1, 0, 0, 1, 1, 0, 0, 0, 1, 1, 1, 1, 0, 0, 0,\n",
              "       1, 1, 0, 1, 0, 0, 0, 0, 0, 0, 0, 0, 1, 1, 0, 0, 0, 1, 0, 1, 0, 0,\n",
              "       1, 0, 1, 0, 0, 1, 1, 0, 0, 0, 0, 0, 1, 0, 0, 0, 1, 0, 0, 1, 1, 0,\n",
              "       0, 1, 0, 0, 0, 1, 1, 1, 0, 0, 1, 0, 1, 0, 1, 1, 0, 1, 0, 0, 1, 0,\n",
              "       1, 1, 0, 0, 1, 0, 1, 0, 0, 1, 0, 1, 0, 1, 1, 1, 0, 0, 1, 0, 1, 0,\n",
              "       0, 0, 1, 0, 0, 0, 0, 1, 1, 1, 0, 0, 0, 0, 0, 0, 0, 0, 0, 1, 0, 0,\n",
              "       0, 0, 0, 1, 1, 1, 0, 1, 1, 0, 0, 1, 0, 0, 1, 0, 0, 1, 1, 0, 0, 0,\n",
              "       0, 1, 0, 0, 1, 0, 0, 0, 0, 0, 0, 0, 1, 1, 1, 0, 0, 1, 0, 0, 1, 0,\n",
              "       0, 1, 0, 1, 1, 0, 1, 0, 1, 0, 1, 0, 1, 1, 0, 0, 0, 0, 1, 1, 0, 1,\n",
              "       0, 1, 0, 0, 0, 0, 1, 1, 0, 1, 0, 1, 0, 0, 0, 0, 0, 1, 0, 0, 0, 0,\n",
              "       1, 0, 0, 1, 1, 1, 0, 0, 1, 0, 0, 1, 0, 0, 0, 1, 0, 0, 1, 0, 0, 0,\n",
              "       0, 0, 0, 0, 0, 0, 1, 0, 0, 0, 0, 0, 0, 0, 1, 0, 0, 0, 1, 0, 0, 0,\n",
              "       1, 1, 0, 0, 0, 0, 0, 0, 0, 1, 0, 0, 0, 0, 1, 0, 0, 0, 1, 0, 0, 0,\n",
              "       1, 0, 0, 0, 1, 0, 0, 0, 0, 1, 1, 0, 0, 0, 0, 0, 0, 1, 0, 0, 0, 0,\n",
              "       0, 0, 0, 0, 0, 0, 0, 1, 0, 0, 0, 1, 1, 1, 1, 0, 0, 1, 1, 0, 0, 0,\n",
              "       0, 0, 0, 0, 0, 0, 0, 0, 0, 0, 1, 1, 0, 0, 0, 0, 0, 0, 0, 1, 0, 0,\n",
              "       0, 0, 0, 0, 0, 1, 0, 1, 1, 0, 0, 0, 1, 0, 1, 0, 1, 0, 1, 0, 1, 0,\n",
              "       0, 1, 0, 0, 1, 0, 0, 0, 0, 1, 1, 0, 1, 0, 0, 0, 0, 1, 1, 0, 1, 0,\n",
              "       0, 0, 1, 1, 0, 0, 0, 0, 0, 0, 0, 0, 0, 0, 1, 0, 0, 0, 0, 1, 0, 0,\n",
              "       1, 0, 0, 0, 1, 0, 0, 0, 1, 1, 1, 0, 0, 0, 0, 0, 0, 1, 0, 0, 0, 1,\n",
              "       0, 1, 1, 1, 1, 0, 1, 1, 0, 0, 0, 0, 0, 0, 0, 1, 1, 0, 1, 0, 0, 1,\n",
              "       0, 1, 0, 0, 0, 0, 0, 1, 0, 1, 0, 1, 0, 1, 1, 0, 0, 0, 0, 1, 1, 0,\n",
              "       0, 0, 1, 0, 1, 1, 0, 0, 1, 0, 0, 1, 1, 0, 0, 1, 0, 0, 1, 0, 0, 0,\n",
              "       0, 0, 0, 0, 1, 1, 1, 0, 0, 0, 0, 0, 0, 1, 1, 0, 0, 1, 0, 0, 1, 0,\n",
              "       1, 1, 1, 0, 0, 1, 1, 1, 0, 1, 0, 1, 0, 1, 0, 0, 0, 0, 1, 0])"
            ]
          },
          "metadata": {
            "tags": []
          },
          "execution_count": 9
        }
      ]
    },
    {
      "cell_type": "code",
      "metadata": {
        "id": "LWeap5GaPlH6",
        "colab_type": "code",
        "colab": {}
      },
      "source": [
        "from sklearn.model_selection import train_test_split\n",
        "X_train, X_test, y_train, y_test = train_test_split(X, y, test_size = 0.25, random_state = 101)\n"
      ],
      "execution_count": 0,
      "outputs": []
    },
    {
      "cell_type": "code",
      "metadata": {
        "id": "6KrFQpMEPpJo",
        "colab_type": "code",
        "colab": {
          "base_uri": "https://localhost:8080/",
          "height": 34
        },
        "outputId": "acde33ae-aaea-4d4f-e878-c28bd53de6d4"
      },
      "source": [
        "from sklearn.preprocessing import StandardScaler\n",
        "sc = StandardScaler()\n",
        "X_train = sc.fit_transform(X_train)\n",
        "X_test = sc.transform(X_test)\n",
        "\n"
      ],
      "execution_count": 11,
      "outputs": [
        {
          "output_type": "execute_result",
          "data": {
            "text/plain": [
              "GaussianNB(priors=None, var_smoothing=1e-09)"
            ]
          },
          "metadata": {
            "tags": []
          },
          "execution_count": 11
        }
      ]
    },
    {
      "cell_type": "code",
      "metadata": {
        "id": "ywgFiWZddW0e",
        "colab_type": "code",
        "colab": {
          "base_uri": "https://localhost:8080/",
          "height": 34
        },
        "outputId": "34a84040-d5e4-47d3-8206-0d64c8230de8"
      },
      "source": [
        "# Importing the Keras libraries and packages\n",
        "import keras\n",
        "from keras.models import Sequential\n",
        "from keras.layers import Dense\n",
        "\n",
        "\n"
      ],
      "execution_count": 19,
      "outputs": [
        {
          "output_type": "stream",
          "text": [
            "Using TensorFlow backend.\n"
          ],
          "name": "stderr"
        }
      ]
    },
    {
      "cell_type": "code",
      "metadata": {
        "id": "GQYCzCm7ddWM",
        "colab_type": "code",
        "colab": {}
      },
      "source": [
        "# Initialising the ANN\n",
        "classifier = Sequential()\n",
        "\n",
        "# Adding the input layer and the first hidden layer\n",
        "classifier.add(Dense(units = 6, kernel_initializer = 'uniform', activation = 'relu', input_dim = 8))\n",
        "\n",
        "# Adding the second hidden layer\n",
        "classifier.add(Dense(units = 6, kernel_initializer = 'uniform', activation = 'relu'))\n",
        "\n",
        "# Adding the output layer\n",
        "classifier.add(Dense(units = 1, kernel_initializer = 'uniform', activation = 'sigmoid'))\n",
        "\n",
        "# Compiling the ANN\n",
        "classifier.compile(optimizer = 'adam', loss = 'binary_crossentropy', metrics = ['accuracy'])\n",
        "\n"
      ],
      "execution_count": 0,
      "outputs": []
    },
    {
      "cell_type": "code",
      "metadata": {
        "id": "jgVPosasdjJL",
        "colab_type": "code",
        "colab": {
          "base_uri": "https://localhost:8080/",
          "height": 1000
        },
        "outputId": "9563fa76-3b38-4596-92ad-fd5e1da2eb95"
      },
      "source": [
        "# Fitting the ANN to the Training set\n",
        "classifier.fit(X_train, y_train, batch_size = 10, epochs = 100)"
      ],
      "execution_count": 23,
      "outputs": [
        {
          "output_type": "stream",
          "text": [
            "WARNING:tensorflow:From /usr/local/lib/python3.6/dist-packages/keras/backend/tensorflow_backend.py:1033: The name tf.assign_add is deprecated. Please use tf.compat.v1.assign_add instead.\n",
            "\n",
            "Epoch 1/100\n",
            "576/576 [==============================] - 1s 1ms/step - loss: 0.6893 - acc: 0.6528\n",
            "Epoch 2/100\n",
            "576/576 [==============================] - 0s 135us/step - loss: 0.6718 - acc: 0.6528\n",
            "Epoch 3/100\n",
            "576/576 [==============================] - 0s 150us/step - loss: 0.6210 - acc: 0.6528\n",
            "Epoch 4/100\n",
            "576/576 [==============================] - 0s 134us/step - loss: 0.5649 - acc: 0.6528\n",
            "Epoch 5/100\n",
            "576/576 [==============================] - 0s 136us/step - loss: 0.5362 - acc: 0.6528\n",
            "Epoch 6/100\n",
            "576/576 [==============================] - 0s 130us/step - loss: 0.5241 - acc: 0.6528\n",
            "Epoch 7/100\n",
            "576/576 [==============================] - 0s 128us/step - loss: 0.5182 - acc: 0.6528\n",
            "Epoch 8/100\n",
            "576/576 [==============================] - 0s 138us/step - loss: 0.5140 - acc: 0.6528\n",
            "Epoch 9/100\n",
            "576/576 [==============================] - 0s 128us/step - loss: 0.5105 - acc: 0.6528\n",
            "Epoch 10/100\n",
            "576/576 [==============================] - 0s 123us/step - loss: 0.5071 - acc: 0.6771\n",
            "Epoch 11/100\n",
            "576/576 [==============================] - 0s 136us/step - loss: 0.5044 - acc: 0.7778\n",
            "Epoch 12/100\n",
            "576/576 [==============================] - 0s 132us/step - loss: 0.5017 - acc: 0.7812\n",
            "Epoch 13/100\n",
            "576/576 [==============================] - 0s 138us/step - loss: 0.4995 - acc: 0.7778\n",
            "Epoch 14/100\n",
            "576/576 [==============================] - 0s 125us/step - loss: 0.4970 - acc: 0.7760\n",
            "Epoch 15/100\n",
            "576/576 [==============================] - 0s 125us/step - loss: 0.4953 - acc: 0.7795\n",
            "Epoch 16/100\n",
            "576/576 [==============================] - 0s 130us/step - loss: 0.4935 - acc: 0.7899\n",
            "Epoch 17/100\n",
            "576/576 [==============================] - 0s 144us/step - loss: 0.4912 - acc: 0.7812\n",
            "Epoch 18/100\n",
            "576/576 [==============================] - 0s 129us/step - loss: 0.4900 - acc: 0.7795\n",
            "Epoch 19/100\n",
            "576/576 [==============================] - 0s 126us/step - loss: 0.4887 - acc: 0.7865\n",
            "Epoch 20/100\n",
            "576/576 [==============================] - 0s 123us/step - loss: 0.4870 - acc: 0.7795\n",
            "Epoch 21/100\n",
            "576/576 [==============================] - 0s 139us/step - loss: 0.4860 - acc: 0.7778\n",
            "Epoch 22/100\n",
            "576/576 [==============================] - 0s 127us/step - loss: 0.4852 - acc: 0.7830\n",
            "Epoch 23/100\n",
            "576/576 [==============================] - 0s 126us/step - loss: 0.4837 - acc: 0.7795\n",
            "Epoch 24/100\n",
            "576/576 [==============================] - 0s 129us/step - loss: 0.4822 - acc: 0.7830\n",
            "Epoch 25/100\n",
            "576/576 [==============================] - 0s 124us/step - loss: 0.4814 - acc: 0.7795\n",
            "Epoch 26/100\n",
            "576/576 [==============================] - 0s 140us/step - loss: 0.4804 - acc: 0.7726\n",
            "Epoch 27/100\n",
            "576/576 [==============================] - 0s 136us/step - loss: 0.4794 - acc: 0.7778\n",
            "Epoch 28/100\n",
            "576/576 [==============================] - 0s 131us/step - loss: 0.4781 - acc: 0.7795\n",
            "Epoch 29/100\n",
            "576/576 [==============================] - 0s 133us/step - loss: 0.4772 - acc: 0.7760\n",
            "Epoch 30/100\n",
            "576/576 [==============================] - 0s 145us/step - loss: 0.4758 - acc: 0.7708\n",
            "Epoch 31/100\n",
            "576/576 [==============================] - 0s 143us/step - loss: 0.4754 - acc: 0.7795\n",
            "Epoch 32/100\n",
            "576/576 [==============================] - 0s 138us/step - loss: 0.4745 - acc: 0.7795\n",
            "Epoch 33/100\n",
            "576/576 [==============================] - 0s 139us/step - loss: 0.4734 - acc: 0.7726\n",
            "Epoch 34/100\n",
            "576/576 [==============================] - 0s 155us/step - loss: 0.4726 - acc: 0.7830\n",
            "Epoch 35/100\n",
            "576/576 [==============================] - 0s 151us/step - loss: 0.4728 - acc: 0.7743\n",
            "Epoch 36/100\n",
            "576/576 [==============================] - 0s 139us/step - loss: 0.4719 - acc: 0.7865\n",
            "Epoch 37/100\n",
            "576/576 [==============================] - 0s 136us/step - loss: 0.4710 - acc: 0.7743\n",
            "Epoch 38/100\n",
            "576/576 [==============================] - 0s 138us/step - loss: 0.4700 - acc: 0.7795\n",
            "Epoch 39/100\n",
            "576/576 [==============================] - 0s 134us/step - loss: 0.4691 - acc: 0.7795\n",
            "Epoch 40/100\n",
            "576/576 [==============================] - 0s 138us/step - loss: 0.4686 - acc: 0.7778\n",
            "Epoch 41/100\n",
            "576/576 [==============================] - 0s 137us/step - loss: 0.4679 - acc: 0.7760\n",
            "Epoch 42/100\n",
            "576/576 [==============================] - 0s 144us/step - loss: 0.4675 - acc: 0.7726\n",
            "Epoch 43/100\n",
            "576/576 [==============================] - 0s 138us/step - loss: 0.4667 - acc: 0.7726\n",
            "Epoch 44/100\n",
            "576/576 [==============================] - 0s 148us/step - loss: 0.4662 - acc: 0.7743\n",
            "Epoch 45/100\n",
            "576/576 [==============================] - 0s 170us/step - loss: 0.4656 - acc: 0.7830\n",
            "Epoch 46/100\n",
            "576/576 [==============================] - 0s 137us/step - loss: 0.4653 - acc: 0.7708\n",
            "Epoch 47/100\n",
            "576/576 [==============================] - 0s 139us/step - loss: 0.4642 - acc: 0.7760\n",
            "Epoch 48/100\n",
            "576/576 [==============================] - 0s 140us/step - loss: 0.4642 - acc: 0.7708\n",
            "Epoch 49/100\n",
            "576/576 [==============================] - 0s 145us/step - loss: 0.4634 - acc: 0.7778\n",
            "Epoch 50/100\n",
            "576/576 [==============================] - 0s 147us/step - loss: 0.4628 - acc: 0.7795\n",
            "Epoch 51/100\n",
            "576/576 [==============================] - 0s 140us/step - loss: 0.4619 - acc: 0.7830\n",
            "Epoch 52/100\n",
            "576/576 [==============================] - 0s 139us/step - loss: 0.4616 - acc: 0.7830\n",
            "Epoch 53/100\n",
            "576/576 [==============================] - 0s 142us/step - loss: 0.4609 - acc: 0.7743\n",
            "Epoch 54/100\n",
            "576/576 [==============================] - 0s 165us/step - loss: 0.4606 - acc: 0.7812\n",
            "Epoch 55/100\n",
            "576/576 [==============================] - 0s 147us/step - loss: 0.4593 - acc: 0.7830\n",
            "Epoch 56/100\n",
            "576/576 [==============================] - 0s 165us/step - loss: 0.4594 - acc: 0.7847\n",
            "Epoch 57/100\n",
            "576/576 [==============================] - 0s 169us/step - loss: 0.4588 - acc: 0.7865\n",
            "Epoch 58/100\n",
            "576/576 [==============================] - 0s 148us/step - loss: 0.4584 - acc: 0.7847\n",
            "Epoch 59/100\n",
            "576/576 [==============================] - 0s 146us/step - loss: 0.4575 - acc: 0.7865\n",
            "Epoch 60/100\n",
            "576/576 [==============================] - 0s 143us/step - loss: 0.4567 - acc: 0.7882\n",
            "Epoch 61/100\n",
            "576/576 [==============================] - 0s 145us/step - loss: 0.4568 - acc: 0.7830\n",
            "Epoch 62/100\n",
            "576/576 [==============================] - 0s 160us/step - loss: 0.4559 - acc: 0.7882\n",
            "Epoch 63/100\n",
            "576/576 [==============================] - 0s 144us/step - loss: 0.4555 - acc: 0.7847\n",
            "Epoch 64/100\n",
            "576/576 [==============================] - 0s 145us/step - loss: 0.4552 - acc: 0.7865\n",
            "Epoch 65/100\n",
            "576/576 [==============================] - 0s 135us/step - loss: 0.4548 - acc: 0.7882\n",
            "Epoch 66/100\n",
            "576/576 [==============================] - 0s 155us/step - loss: 0.4541 - acc: 0.7830\n",
            "Epoch 67/100\n",
            "576/576 [==============================] - 0s 166us/step - loss: 0.4541 - acc: 0.7847\n",
            "Epoch 68/100\n",
            "576/576 [==============================] - 0s 141us/step - loss: 0.4532 - acc: 0.7865\n",
            "Epoch 69/100\n",
            "576/576 [==============================] - 0s 138us/step - loss: 0.4529 - acc: 0.7882\n",
            "Epoch 70/100\n",
            "576/576 [==============================] - 0s 135us/step - loss: 0.4522 - acc: 0.7847\n",
            "Epoch 71/100\n",
            "576/576 [==============================] - 0s 141us/step - loss: 0.4524 - acc: 0.7882\n",
            "Epoch 72/100\n",
            "576/576 [==============================] - 0s 154us/step - loss: 0.4532 - acc: 0.7847\n",
            "Epoch 73/100\n",
            "576/576 [==============================] - 0s 136us/step - loss: 0.4518 - acc: 0.7899\n",
            "Epoch 74/100\n",
            "576/576 [==============================] - 0s 148us/step - loss: 0.4510 - acc: 0.7899\n",
            "Epoch 75/100\n",
            "576/576 [==============================] - 0s 127us/step - loss: 0.4503 - acc: 0.7951\n",
            "Epoch 76/100\n",
            "576/576 [==============================] - 0s 133us/step - loss: 0.4504 - acc: 0.7899\n",
            "Epoch 77/100\n",
            "576/576 [==============================] - 0s 139us/step - loss: 0.4500 - acc: 0.7917\n",
            "Epoch 78/100\n",
            "576/576 [==============================] - 0s 158us/step - loss: 0.4491 - acc: 0.7934\n",
            "Epoch 79/100\n",
            "576/576 [==============================] - 0s 149us/step - loss: 0.4489 - acc: 0.7934\n",
            "Epoch 80/100\n",
            "576/576 [==============================] - 0s 142us/step - loss: 0.4485 - acc: 0.7951\n",
            "Epoch 81/100\n",
            "576/576 [==============================] - 0s 146us/step - loss: 0.4488 - acc: 0.7917\n",
            "Epoch 82/100\n",
            "576/576 [==============================] - 0s 143us/step - loss: 0.4486 - acc: 0.7934\n",
            "Epoch 83/100\n",
            "576/576 [==============================] - 0s 148us/step - loss: 0.4480 - acc: 0.7917\n",
            "Epoch 84/100\n",
            "576/576 [==============================] - 0s 148us/step - loss: 0.4484 - acc: 0.7917\n",
            "Epoch 85/100\n",
            "576/576 [==============================] - 0s 142us/step - loss: 0.4480 - acc: 0.7917\n",
            "Epoch 86/100\n",
            "576/576 [==============================] - 0s 153us/step - loss: 0.4470 - acc: 0.7951\n",
            "Epoch 87/100\n",
            "576/576 [==============================] - 0s 136us/step - loss: 0.4477 - acc: 0.7917\n",
            "Epoch 88/100\n",
            "576/576 [==============================] - 0s 150us/step - loss: 0.4468 - acc: 0.7951\n",
            "Epoch 89/100\n",
            "576/576 [==============================] - 0s 142us/step - loss: 0.4463 - acc: 0.7986\n",
            "Epoch 90/100\n",
            "576/576 [==============================] - 0s 146us/step - loss: 0.4463 - acc: 0.7969\n",
            "Epoch 91/100\n",
            "576/576 [==============================] - 0s 142us/step - loss: 0.4456 - acc: 0.7951\n",
            "Epoch 92/100\n",
            "576/576 [==============================] - 0s 134us/step - loss: 0.4453 - acc: 0.7969\n",
            "Epoch 93/100\n",
            "576/576 [==============================] - 0s 142us/step - loss: 0.4460 - acc: 0.7969\n",
            "Epoch 94/100\n",
            "576/576 [==============================] - 0s 143us/step - loss: 0.4453 - acc: 0.7969\n",
            "Epoch 95/100\n",
            "576/576 [==============================] - 0s 166us/step - loss: 0.4446 - acc: 0.7969\n",
            "Epoch 96/100\n",
            "576/576 [==============================] - 0s 176us/step - loss: 0.4444 - acc: 0.7917\n",
            "Epoch 97/100\n",
            "576/576 [==============================] - 0s 163us/step - loss: 0.4444 - acc: 0.7986\n",
            "Epoch 98/100\n",
            "576/576 [==============================] - 0s 136us/step - loss: 0.4438 - acc: 0.7986\n",
            "Epoch 99/100\n",
            "576/576 [==============================] - 0s 142us/step - loss: 0.4437 - acc: 0.7969\n",
            "Epoch 100/100\n",
            "576/576 [==============================] - 0s 141us/step - loss: 0.4431 - acc: 0.7969\n"
          ],
          "name": "stdout"
        },
        {
          "output_type": "execute_result",
          "data": {
            "text/plain": [
              "<keras.callbacks.History at 0x7fd03bcdc9e8>"
            ]
          },
          "metadata": {
            "tags": []
          },
          "execution_count": 23
        }
      ]
    },
    {
      "cell_type": "code",
      "metadata": {
        "id": "z0hN0K28P1zL",
        "colab_type": "code",
        "colab": {}
      },
      "source": [
        "y_pred = classifier.predict(X_test)\n",
        "y_pred = (y_pred > 0.65)"
      ],
      "execution_count": 0,
      "outputs": []
    },
    {
      "cell_type": "code",
      "metadata": {
        "id": "sAbOKrSOdcVe",
        "colab_type": "code",
        "colab": {
          "base_uri": "https://localhost:8080/",
          "height": 51
        },
        "outputId": "68c65f4d-55b4-426a-853b-a6774002fc92"
      },
      "source": [
        "from sklearn.metrics import confusion_matrix\n",
        "cm = confusion_matrix(y_test, y_pred)\n",
        "cm"
      ],
      "execution_count": 46,
      "outputs": [
        {
          "output_type": "execute_result",
          "data": {
            "text/plain": [
              "array([[116,   8],\n",
              "       [ 31,  37]])"
            ]
          },
          "metadata": {
            "tags": []
          },
          "execution_count": 46
        }
      ]
    },
    {
      "cell_type": "code",
      "metadata": {
        "id": "tOidt2gCP7R8",
        "colab_type": "code",
        "colab": {
          "base_uri": "https://localhost:8080/",
          "height": 34
        },
        "outputId": "1cb338f5-3337-43e7-ac14-2ba459273863"
      },
      "source": [
        "from sklearn.metrics import accuracy_score\n",
        "acc=accuracy_score(y_test,y_pred)\n",
        "acc"
      ],
      "execution_count": 47,
      "outputs": [
        {
          "output_type": "execute_result",
          "data": {
            "text/plain": [
              "0.796875"
            ]
          },
          "metadata": {
            "tags": []
          },
          "execution_count": 47
        }
      ]
    },
    {
      "cell_type": "code",
      "metadata": {
        "id": "027D8wH6QXwf",
        "colab_type": "code",
        "colab": {}
      },
      "source": [
        ""
      ],
      "execution_count": 0,
      "outputs": []
    }
  ]
}