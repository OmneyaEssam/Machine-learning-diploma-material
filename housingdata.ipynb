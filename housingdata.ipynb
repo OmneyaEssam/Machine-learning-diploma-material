{
  "nbformat": 4,
  "nbformat_minor": 0,
  "metadata": {
    "colab": {
      "name": "housingdata.ipynb",
      "provenance": []
    },
    "kernelspec": {
      "name": "python3",
      "display_name": "Python 3"
    }
  },
  "cells": [
    {
      "cell_type": "code",
      "metadata": {
        "id": "CgpCr_CHRwv6",
        "colab_type": "code",
        "colab": {}
      },
      "source": [
        "import pandas as pd\n",
        "import numpy as np\n",
        "import matplotlib.pyplot as plt\n",
        "import seaborn as sns"
      ],
      "execution_count": 0,
      "outputs": []
    },
    {
      "cell_type": "code",
      "metadata": {
        "id": "2qTa-WusZcyy",
        "colab_type": "code",
        "colab": {}
      },
      "source": [
        "df=pd.read_csv('housingdata.csv')"
      ],
      "execution_count": 0,
      "outputs": []
    },
    {
      "cell_type": "code",
      "metadata": {
        "id": "ZUrUxQhsZobf",
        "colab_type": "code",
        "colab": {
          "base_uri": "https://localhost:8080/",
          "height": 204
        },
        "outputId": "919bb50f-d876-46fd-d90d-439825270fb2"
      },
      "source": [
        "df.head()"
      ],
      "execution_count": 8,
      "outputs": [
        {
          "output_type": "execute_result",
          "data": {
            "text/html": [
              "<div>\n",
              "<style scoped>\n",
              "    .dataframe tbody tr th:only-of-type {\n",
              "        vertical-align: middle;\n",
              "    }\n",
              "\n",
              "    .dataframe tbody tr th {\n",
              "        vertical-align: top;\n",
              "    }\n",
              "\n",
              "    .dataframe thead th {\n",
              "        text-align: right;\n",
              "    }\n",
              "</style>\n",
              "<table border=\"1\" class=\"dataframe\">\n",
              "  <thead>\n",
              "    <tr style=\"text-align: right;\">\n",
              "      <th></th>\n",
              "      <th>0.00632</th>\n",
              "      <th>18</th>\n",
              "      <th>2.31</th>\n",
              "      <th>0</th>\n",
              "      <th>0.538</th>\n",
              "      <th>6.575</th>\n",
              "      <th>65.2</th>\n",
              "      <th>4.09</th>\n",
              "      <th>1</th>\n",
              "      <th>296</th>\n",
              "      <th>15.3</th>\n",
              "      <th>396.9</th>\n",
              "      <th>4.98</th>\n",
              "      <th>24</th>\n",
              "    </tr>\n",
              "  </thead>\n",
              "  <tbody>\n",
              "    <tr>\n",
              "      <th>0</th>\n",
              "      <td>0.02731</td>\n",
              "      <td>0.0</td>\n",
              "      <td>7.07</td>\n",
              "      <td>0</td>\n",
              "      <td>0.469</td>\n",
              "      <td>6.421</td>\n",
              "      <td>78.9</td>\n",
              "      <td>4.9671</td>\n",
              "      <td>2</td>\n",
              "      <td>242</td>\n",
              "      <td>17.8</td>\n",
              "      <td>396.90</td>\n",
              "      <td>9.14</td>\n",
              "      <td>21.6</td>\n",
              "    </tr>\n",
              "    <tr>\n",
              "      <th>1</th>\n",
              "      <td>0.02729</td>\n",
              "      <td>0.0</td>\n",
              "      <td>7.07</td>\n",
              "      <td>0</td>\n",
              "      <td>0.469</td>\n",
              "      <td>7.185</td>\n",
              "      <td>61.1</td>\n",
              "      <td>4.9671</td>\n",
              "      <td>2</td>\n",
              "      <td>242</td>\n",
              "      <td>17.8</td>\n",
              "      <td>392.83</td>\n",
              "      <td>4.03</td>\n",
              "      <td>34.7</td>\n",
              "    </tr>\n",
              "    <tr>\n",
              "      <th>2</th>\n",
              "      <td>0.03237</td>\n",
              "      <td>0.0</td>\n",
              "      <td>2.18</td>\n",
              "      <td>0</td>\n",
              "      <td>0.458</td>\n",
              "      <td>6.998</td>\n",
              "      <td>45.8</td>\n",
              "      <td>6.0622</td>\n",
              "      <td>3</td>\n",
              "      <td>222</td>\n",
              "      <td>18.7</td>\n",
              "      <td>394.63</td>\n",
              "      <td>2.94</td>\n",
              "      <td>33.4</td>\n",
              "    </tr>\n",
              "    <tr>\n",
              "      <th>3</th>\n",
              "      <td>0.06905</td>\n",
              "      <td>0.0</td>\n",
              "      <td>2.18</td>\n",
              "      <td>0</td>\n",
              "      <td>0.458</td>\n",
              "      <td>7.147</td>\n",
              "      <td>54.2</td>\n",
              "      <td>6.0622</td>\n",
              "      <td>3</td>\n",
              "      <td>222</td>\n",
              "      <td>18.7</td>\n",
              "      <td>396.90</td>\n",
              "      <td>5.33</td>\n",
              "      <td>36.2</td>\n",
              "    </tr>\n",
              "    <tr>\n",
              "      <th>4</th>\n",
              "      <td>0.02985</td>\n",
              "      <td>0.0</td>\n",
              "      <td>2.18</td>\n",
              "      <td>0</td>\n",
              "      <td>0.458</td>\n",
              "      <td>6.430</td>\n",
              "      <td>58.7</td>\n",
              "      <td>6.0622</td>\n",
              "      <td>3</td>\n",
              "      <td>222</td>\n",
              "      <td>18.7</td>\n",
              "      <td>394.12</td>\n",
              "      <td>5.21</td>\n",
              "      <td>28.7</td>\n",
              "    </tr>\n",
              "  </tbody>\n",
              "</table>\n",
              "</div>"
            ],
            "text/plain": [
              "   0.00632   18  2.31  0  0.538  6.575  ...  1  296  15.3   396.9  4.98    24\n",
              "0  0.02731  0.0  7.07  0  0.469  6.421  ...  2  242  17.8  396.90  9.14  21.6\n",
              "1  0.02729  0.0  7.07  0  0.469  7.185  ...  2  242  17.8  392.83  4.03  34.7\n",
              "2  0.03237  0.0  2.18  0  0.458  6.998  ...  3  222  18.7  394.63  2.94  33.4\n",
              "3  0.06905  0.0  2.18  0  0.458  7.147  ...  3  222  18.7  396.90  5.33  36.2\n",
              "4  0.02985  0.0  2.18  0  0.458  6.430  ...  3  222  18.7  394.12  5.21  28.7\n",
              "\n",
              "[5 rows x 14 columns]"
            ]
          },
          "metadata": {
            "tags": []
          },
          "execution_count": 8
        }
      ]
    },
    {
      "cell_type": "code",
      "metadata": {
        "id": "5mf4tDZnaDml",
        "colab_type": "code",
        "colab": {}
      },
      "source": [
        "X = df.iloc[:, :-1].values\n",
        "y = df.iloc[:, -1].values"
      ],
      "execution_count": 0,
      "outputs": []
    },
    {
      "cell_type": "code",
      "metadata": {
        "id": "3AFlIYMteqyc",
        "colab_type": "code",
        "colab": {
          "base_uri": "https://localhost:8080/",
          "height": 238
        },
        "outputId": "8c26f0a4-bc81-4001-a7db-b71fa42ca892"
      },
      "source": [
        "X"
      ],
      "execution_count": 52,
      "outputs": [
        {
          "output_type": "execute_result",
          "data": {
            "text/plain": [
              "array([[2.7310e-02, 0.0000e+00, 7.0700e+00, ..., 1.7800e+01, 3.9690e+02,\n",
              "        9.1400e+00],\n",
              "       [2.7290e-02, 0.0000e+00, 7.0700e+00, ..., 1.7800e+01, 3.9283e+02,\n",
              "        4.0300e+00],\n",
              "       [3.2370e-02, 0.0000e+00, 2.1800e+00, ..., 1.8700e+01, 3.9463e+02,\n",
              "        2.9400e+00],\n",
              "       ...,\n",
              "       [6.0760e-02, 0.0000e+00, 1.1930e+01, ..., 2.1000e+01, 3.9690e+02,\n",
              "        5.6400e+00],\n",
              "       [1.0959e-01, 0.0000e+00, 1.1930e+01, ..., 2.1000e+01, 3.9345e+02,\n",
              "        6.4800e+00],\n",
              "       [4.7410e-02, 0.0000e+00, 1.1930e+01, ..., 2.1000e+01, 3.9690e+02,\n",
              "        7.8800e+00]])"
            ]
          },
          "metadata": {
            "tags": []
          },
          "execution_count": 52
        }
      ]
    },
    {
      "cell_type": "code",
      "metadata": {
        "id": "LvPCZArherVb",
        "colab_type": "code",
        "colab": {
          "base_uri": "https://localhost:8080/",
          "height": 799
        },
        "outputId": "1bf86113-5a59-491f-af5d-07069e344686"
      },
      "source": [
        "y"
      ],
      "execution_count": 53,
      "outputs": [
        {
          "output_type": "execute_result",
          "data": {
            "text/plain": [
              "array([21.6, 34.7, 33.4, 36.2, 28.7, 22.9, 27.1, 16.5, 18.9, 15. , 18.9,\n",
              "       21.7, 20.4, 18.2, 19.9, 23.1, 17.5, 20.2, 18.2, 13.6, 19.6, 15.2,\n",
              "       14.5, 15.6, 13.9, 16.6, 14.8, 18.4, 21. , 12.7, 14.5, 13.2, 13.1,\n",
              "       13.5, 18.9, 20. , 21. , 24.7, 30.8, 34.9, 26.6, 25.3, 24.7, 21.2,\n",
              "       19.3, 20. , 16.6, 14.4, 19.4, 19.7, 20.5, 25. , 23.4, 18.9, 35.4,\n",
              "       24.7, 31.6, 23.3, 19.6, 18.7, 16. , 22.2, 25. , 33. , 23.5, 19.4,\n",
              "       22. , 17.4, 20.9, 24.2, 21.7, 22.8, 23.4, 24.1, 21.4, 20. , 20.8,\n",
              "       21.2, 20.3, 28. , 23.9, 24.8, 22.9, 23.9, 26.6, 22.5, 22.2, 23.6,\n",
              "       28.7, 22.6, 22. , 22.9, 25. , 20.6, 28.4, 21.4, 38.7, 43.8, 33.2,\n",
              "       27.5, 26.5, 18.6, 19.3, 20.1, 19.5, 19.5, 20.4, 19.8, 19.4, 21.7,\n",
              "       22.8, 18.8, 18.7, 18.5, 18.3, 21.2, 19.2, 20.4, 19.3, 22. , 20.3,\n",
              "       20.5, 17.3, 18.8, 21.4, 15.7, 16.2, 18. , 14.3, 19.2, 19.6, 23. ,\n",
              "       18.4, 15.6, 18.1, 17.4, 17.1, 13.3, 17.8, 14. , 14.4, 13.4, 15.6,\n",
              "       11.8, 13.8, 15.6, 14.6, 17.8, 15.4, 21.5, 19.6, 15.3, 19.4, 17. ,\n",
              "       15.6, 13.1, 41.3, 24.3, 23.3, 27. , 50. , 50. , 50. , 22.7, 25. ,\n",
              "       50. , 23.8, 23.8, 22.3, 17.4, 19.1, 23.1, 23.6, 22.6, 29.4, 23.2,\n",
              "       24.6, 29.9, 37.2, 39.8, 36.2, 37.9, 32.5, 26.4, 29.6, 50. , 32. ,\n",
              "       29.8, 34.9, 37. , 30.5, 36.4, 31.1, 29.1, 50. , 33.3, 30.3, 34.6,\n",
              "       34.9, 32.9, 24.1, 42.3, 48.5, 50. , 22.6, 24.4, 22.5, 24.4, 20. ,\n",
              "       21.7, 19.3, 22.4, 28.1, 23.7, 25. , 23.3, 28.7, 21.5, 23. , 26.7,\n",
              "       21.7, 27.5, 30.1, 44.8, 50. , 37.6, 31.6, 46.7, 31.5, 24.3, 31.7,\n",
              "       41.7, 48.3, 29. , 24. , 25.1, 31.5, 23.7, 23.3, 22. , 20.1, 22.2,\n",
              "       23.7, 17.6, 18.5, 24.3, 20.5, 24.5, 26.2, 24.4, 24.8, 29.6, 42.8,\n",
              "       21.9, 20.9, 44. , 50. , 36. , 30.1, 33.8, 43.1, 48.8, 31. , 36.5,\n",
              "       22.8, 30.7, 50. , 43.5, 20.7, 21.1, 25.2, 24.4, 35.2, 32.4, 32. ,\n",
              "       33.2, 33.1, 29.1, 35.1, 45.4, 35.4, 46. , 50. , 32.2, 22. , 20.1,\n",
              "       23.2, 22.3, 24.8, 28.5, 37.3, 27.9, 23.9, 21.7, 28.6, 27.1, 20.3,\n",
              "       22.5, 29. , 24.8, 22. , 26.4, 33.1, 36.1, 28.4, 33.4, 28.2, 22.8,\n",
              "       20.3, 16.1, 22.1, 19.4, 21.6, 23.8, 16.2, 17.8, 19.8, 23.1, 21. ,\n",
              "       23.8, 23.1, 20.4, 18.5, 25. , 24.6, 23. , 22.2, 19.3, 22.6, 19.8,\n",
              "       17.1, 19.4, 22.2, 20.7, 21.1, 19.5, 18.5, 20.6, 19. , 18.7, 32.7,\n",
              "       16.5, 23.9, 31.2, 17.5, 17.2, 23.1, 24.5, 26.6, 22.9, 24.1, 18.6,\n",
              "       30.1, 18.2, 20.6, 17.8, 21.7, 22.7, 22.6, 25. , 19.9, 20.8, 16.8,\n",
              "       21.9, 27.5, 21.9, 23.1, 50. , 50. , 50. , 50. , 50. , 13.8, 13.8,\n",
              "       15. , 13.9, 13.3, 13.1, 10.2, 10.4, 10.9, 11.3, 12.3,  8.8,  7.2,\n",
              "       10.5,  7.4, 10.2, 11.5, 15.1, 23.2,  9.7, 13.8, 12.7, 13.1, 12.5,\n",
              "        8.5,  5. ,  6.3,  5.6,  7.2, 12.1,  8.3,  8.5,  5. , 11.9, 27.9,\n",
              "       17.2, 27.5, 15. , 17.2, 17.9, 16.3,  7. ,  7.2,  7.5, 10.4,  8.8,\n",
              "        8.4, 16.7, 14.2, 20.8, 13.4, 11.7,  8.3, 10.2, 10.9, 11. ,  9.5,\n",
              "       14.5, 14.1, 16.1, 14.3, 11.7, 13.4,  9.6,  8.7,  8.4, 12.8, 10.5,\n",
              "       17.1, 18.4, 15.4, 10.8, 11.8, 14.9, 12.6, 14.1, 13. , 13.4, 15.2,\n",
              "       16.1, 17.8, 14.9, 14.1, 12.7, 13.5, 14.9, 20. , 16.4, 17.7, 19.5,\n",
              "       20.2, 21.4, 19.9, 19. , 19.1, 19.1, 20.1, 19.9, 19.6, 23.2, 29.8,\n",
              "       13.8, 13.3, 16.7, 12. , 14.6, 21.4, 23. , 23.7, 25. , 21.8, 20.6,\n",
              "       21.2, 19.1, 20.6, 15.2,  7. ,  8.1, 13.6, 20.1, 21.8, 24.5, 23.1,\n",
              "       19.7, 18.3, 21.2, 17.5, 16.8, 22.4, 20.6, 23.9, 22. , 11.9])"
            ]
          },
          "metadata": {
            "tags": []
          },
          "execution_count": 53
        }
      ]
    },
    {
      "cell_type": "code",
      "metadata": {
        "id": "QdRxgASnftBo",
        "colab_type": "code",
        "colab": {}
      },
      "source": [
        "from sklearn.model_selection import train_test_split\n",
        "X_train, X_test, y_train, y_test = train_test_split(X, y, test_size = 0.2, random_state = 0)\n",
        "\n",
        "# Feature Scaling\n",
        "from sklearn.preprocessing import StandardScaler\n",
        "sc = StandardScaler()\n",
        "X_train = sc.fit_transform(X_train)\n",
        "X_test = sc.transform(X_test)\n"
      ],
      "execution_count": 0,
      "outputs": []
    },
    {
      "cell_type": "code",
      "metadata": {
        "id": "sgv98xzWf6sO",
        "colab_type": "code",
        "colab": {}
      },
      "source": [
        "# Importing the Keras libraries and packages\n",
        "import keras\n",
        "from keras.models import Sequential\n",
        "from keras.layers import Dense\n",
        "\n",
        "\n"
      ],
      "execution_count": 0,
      "outputs": []
    },
    {
      "cell_type": "code",
      "metadata": {
        "id": "tlCnGhoAf9Xr",
        "colab_type": "code",
        "colab": {}
      },
      "source": [
        "# Initialising the ANN\n",
        "regressor = Sequential()\n",
        "\n",
        "# Adding the input layer and the first hidden layer\n",
        "regressor.add(Dense(units = 7, kernel_initializer = 'normal', activation = 'relu', input_dim = 13))\n",
        "\n",
        "# Adding the second hidden layer\n",
        "regressor.add(Dense(units = 6, kernel_initializer = 'normal', activation = 'relu'))\n",
        "\n",
        "# Adding the output layer\n",
        "regressor.add(Dense(units = 1, kernel_initializer = 'normal', activation = 'linear'))\n",
        "\n",
        "# Compiling the ANN\n",
        "regressor.compile(optimizer = 'adam', loss = 'mean_squared_error', metrics = ['mean_squared_error'])\n",
        "\n"
      ],
      "execution_count": 0,
      "outputs": []
    },
    {
      "cell_type": "code",
      "metadata": {
        "id": "Y5JfwW1Qjry6",
        "colab_type": "code",
        "colab": {}
      },
      "source": [
        ""
      ],
      "execution_count": 0,
      "outputs": []
    },
    {
      "cell_type": "code",
      "metadata": {
        "id": "lnCbltPcgxt4",
        "colab_type": "code",
        "colab": {
          "base_uri": "https://localhost:8080/",
          "height": 1000
        },
        "outputId": "7d09de6b-6900-44d6-d811-b92e933ef7f3"
      },
      "source": [
        "# Fitting the ANN to the Training set\n",
        "regressor.fit(X_train, y_train, batch_size = 10, epochs = 100)"
      ],
      "execution_count": 65,
      "outputs": [
        {
          "output_type": "stream",
          "text": [
            "Epoch 1/100\n",
            "404/404 [==============================] - 1s 1ms/step - loss: 599.3132 - mean_squared_error: 599.3132\n",
            "Epoch 2/100\n",
            "404/404 [==============================] - 0s 161us/step - loss: 593.8611 - mean_squared_error: 593.8611\n",
            "Epoch 3/100\n",
            "404/404 [==============================] - 0s 134us/step - loss: 575.5812 - mean_squared_error: 575.5812\n",
            "Epoch 4/100\n",
            "404/404 [==============================] - 0s 159us/step - loss: 529.2437 - mean_squared_error: 529.2437\n",
            "Epoch 5/100\n",
            "404/404 [==============================] - 0s 125us/step - loss: 446.8811 - mean_squared_error: 446.8811\n",
            "Epoch 6/100\n",
            "404/404 [==============================] - 0s 130us/step - loss: 333.7462 - mean_squared_error: 333.7462\n",
            "Epoch 7/100\n",
            "404/404 [==============================] - 0s 129us/step - loss: 221.3514 - mean_squared_error: 221.3514\n",
            "Epoch 8/100\n",
            "404/404 [==============================] - 0s 161us/step - loss: 138.6615 - mean_squared_error: 138.6615\n",
            "Epoch 9/100\n",
            "404/404 [==============================] - 0s 116us/step - loss: 95.5462 - mean_squared_error: 95.5462\n",
            "Epoch 10/100\n",
            "404/404 [==============================] - 0s 130us/step - loss: 74.6950 - mean_squared_error: 74.6950\n",
            "Epoch 11/100\n",
            "404/404 [==============================] - 0s 123us/step - loss: 61.4229 - mean_squared_error: 61.4229\n",
            "Epoch 12/100\n",
            "404/404 [==============================] - 0s 112us/step - loss: 52.4560 - mean_squared_error: 52.4560\n",
            "Epoch 13/100\n",
            "404/404 [==============================] - 0s 122us/step - loss: 45.6015 - mean_squared_error: 45.6015\n",
            "Epoch 14/100\n",
            "404/404 [==============================] - 0s 120us/step - loss: 41.0287 - mean_squared_error: 41.0287\n",
            "Epoch 15/100\n",
            "404/404 [==============================] - 0s 172us/step - loss: 37.6806 - mean_squared_error: 37.6806\n",
            "Epoch 16/100\n",
            "404/404 [==============================] - 0s 128us/step - loss: 35.2305 - mean_squared_error: 35.2305\n",
            "Epoch 17/100\n",
            "404/404 [==============================] - 0s 127us/step - loss: 33.4211 - mean_squared_error: 33.4211\n",
            "Epoch 18/100\n",
            "404/404 [==============================] - 0s 136us/step - loss: 32.0727 - mean_squared_error: 32.0727\n",
            "Epoch 19/100\n",
            "404/404 [==============================] - 0s 131us/step - loss: 31.0467 - mean_squared_error: 31.0467\n",
            "Epoch 20/100\n",
            "404/404 [==============================] - 0s 161us/step - loss: 30.2634 - mean_squared_error: 30.2634\n",
            "Epoch 21/100\n",
            "404/404 [==============================] - 0s 132us/step - loss: 29.5305 - mean_squared_error: 29.5305\n",
            "Epoch 22/100\n",
            "404/404 [==============================] - 0s 139us/step - loss: 28.9656 - mean_squared_error: 28.9656\n",
            "Epoch 23/100\n",
            "404/404 [==============================] - 0s 119us/step - loss: 28.4643 - mean_squared_error: 28.4643\n",
            "Epoch 24/100\n",
            "404/404 [==============================] - 0s 175us/step - loss: 27.8692 - mean_squared_error: 27.8692\n",
            "Epoch 25/100\n",
            "404/404 [==============================] - 0s 123us/step - loss: 27.4263 - mean_squared_error: 27.4263\n",
            "Epoch 26/100\n",
            "404/404 [==============================] - 0s 133us/step - loss: 26.9399 - mean_squared_error: 26.9399\n",
            "Epoch 27/100\n",
            "404/404 [==============================] - 0s 130us/step - loss: 26.4885 - mean_squared_error: 26.4885\n",
            "Epoch 28/100\n",
            "404/404 [==============================] - 0s 175us/step - loss: 26.1374 - mean_squared_error: 26.1374\n",
            "Epoch 29/100\n",
            "404/404 [==============================] - 0s 133us/step - loss: 25.7776 - mean_squared_error: 25.7776\n",
            "Epoch 30/100\n",
            "404/404 [==============================] - 0s 122us/step - loss: 25.3644 - mean_squared_error: 25.3644\n",
            "Epoch 31/100\n",
            "404/404 [==============================] - 0s 132us/step - loss: 25.0104 - mean_squared_error: 25.0104\n",
            "Epoch 32/100\n",
            "404/404 [==============================] - 0s 147us/step - loss: 24.7308 - mean_squared_error: 24.7308\n",
            "Epoch 33/100\n",
            "404/404 [==============================] - 0s 161us/step - loss: 24.4119 - mean_squared_error: 24.4119\n",
            "Epoch 34/100\n",
            "404/404 [==============================] - 0s 126us/step - loss: 24.1309 - mean_squared_error: 24.1309\n",
            "Epoch 35/100\n",
            "404/404 [==============================] - 0s 132us/step - loss: 23.7825 - mean_squared_error: 23.7825\n",
            "Epoch 36/100\n",
            "404/404 [==============================] - 0s 160us/step - loss: 23.4874 - mean_squared_error: 23.4874\n",
            "Epoch 37/100\n",
            "404/404 [==============================] - 0s 128us/step - loss: 23.2745 - mean_squared_error: 23.2745\n",
            "Epoch 38/100\n",
            "404/404 [==============================] - 0s 119us/step - loss: 22.9396 - mean_squared_error: 22.9396\n",
            "Epoch 39/100\n",
            "404/404 [==============================] - 0s 157us/step - loss: 22.6313 - mean_squared_error: 22.6313\n",
            "Epoch 40/100\n",
            "404/404 [==============================] - 0s 126us/step - loss: 22.4840 - mean_squared_error: 22.4840\n",
            "Epoch 41/100\n",
            "404/404 [==============================] - 0s 130us/step - loss: 22.0802 - mean_squared_error: 22.0802\n",
            "Epoch 42/100\n",
            "404/404 [==============================] - 0s 156us/step - loss: 21.9609 - mean_squared_error: 21.9609\n",
            "Epoch 43/100\n",
            "404/404 [==============================] - 0s 200us/step - loss: 21.5763 - mean_squared_error: 21.5763\n",
            "Epoch 44/100\n",
            "404/404 [==============================] - 0s 158us/step - loss: 21.3633 - mean_squared_error: 21.3633\n",
            "Epoch 45/100\n",
            "404/404 [==============================] - 0s 122us/step - loss: 21.0212 - mean_squared_error: 21.0212\n",
            "Epoch 46/100\n",
            "404/404 [==============================] - 0s 139us/step - loss: 20.8592 - mean_squared_error: 20.8592\n",
            "Epoch 47/100\n",
            "404/404 [==============================] - 0s 162us/step - loss: 20.5389 - mean_squared_error: 20.5389\n",
            "Epoch 48/100\n",
            "404/404 [==============================] - 0s 138us/step - loss: 20.3269 - mean_squared_error: 20.3269\n",
            "Epoch 49/100\n",
            "404/404 [==============================] - 0s 128us/step - loss: 20.0834 - mean_squared_error: 20.0834\n",
            "Epoch 50/100\n",
            "404/404 [==============================] - 0s 132us/step - loss: 19.8703 - mean_squared_error: 19.8703\n",
            "Epoch 51/100\n",
            "404/404 [==============================] - 0s 156us/step - loss: 19.6940 - mean_squared_error: 19.6940\n",
            "Epoch 52/100\n",
            "404/404 [==============================] - 0s 125us/step - loss: 19.4739 - mean_squared_error: 19.4739\n",
            "Epoch 53/100\n",
            "404/404 [==============================] - 0s 154us/step - loss: 19.2621 - mean_squared_error: 19.2621\n",
            "Epoch 54/100\n",
            "404/404 [==============================] - 0s 153us/step - loss: 19.0281 - mean_squared_error: 19.0281\n",
            "Epoch 55/100\n",
            "404/404 [==============================] - 0s 121us/step - loss: 18.8539 - mean_squared_error: 18.8539\n",
            "Epoch 56/100\n",
            "404/404 [==============================] - 0s 128us/step - loss: 18.6040 - mean_squared_error: 18.6040\n",
            "Epoch 57/100\n",
            "404/404 [==============================] - 0s 154us/step - loss: 18.3768 - mean_squared_error: 18.3768\n",
            "Epoch 58/100\n",
            "404/404 [==============================] - 0s 132us/step - loss: 18.2176 - mean_squared_error: 18.2176\n",
            "Epoch 59/100\n",
            "404/404 [==============================] - 0s 151us/step - loss: 18.0270 - mean_squared_error: 18.0270\n",
            "Epoch 60/100\n",
            "404/404 [==============================] - 0s 151us/step - loss: 17.8763 - mean_squared_error: 17.8763\n",
            "Epoch 61/100\n",
            "404/404 [==============================] - 0s 187us/step - loss: 17.7133 - mean_squared_error: 17.7133\n",
            "Epoch 62/100\n",
            "404/404 [==============================] - 0s 130us/step - loss: 17.5960 - mean_squared_error: 17.5960\n",
            "Epoch 63/100\n",
            "404/404 [==============================] - 0s 133us/step - loss: 17.4993 - mean_squared_error: 17.4993\n",
            "Epoch 64/100\n",
            "404/404 [==============================] - 0s 131us/step - loss: 17.1781 - mean_squared_error: 17.1781\n",
            "Epoch 65/100\n",
            "404/404 [==============================] - 0s 164us/step - loss: 16.9839 - mean_squared_error: 16.9839\n",
            "Epoch 66/100\n",
            "404/404 [==============================] - 0s 130us/step - loss: 16.7243 - mean_squared_error: 16.7243\n",
            "Epoch 67/100\n",
            "404/404 [==============================] - 0s 145us/step - loss: 16.6012 - mean_squared_error: 16.6012\n",
            "Epoch 68/100\n",
            "404/404 [==============================] - 0s 126us/step - loss: 16.4366 - mean_squared_error: 16.4366\n",
            "Epoch 69/100\n",
            "404/404 [==============================] - 0s 120us/step - loss: 16.3053 - mean_squared_error: 16.3053\n",
            "Epoch 70/100\n",
            "404/404 [==============================] - 0s 169us/step - loss: 16.1447 - mean_squared_error: 16.1447\n",
            "Epoch 71/100\n",
            "404/404 [==============================] - 0s 154us/step - loss: 15.8942 - mean_squared_error: 15.8942\n",
            "Epoch 72/100\n",
            "404/404 [==============================] - 0s 136us/step - loss: 15.7245 - mean_squared_error: 15.7245\n",
            "Epoch 73/100\n",
            "404/404 [==============================] - 0s 168us/step - loss: 15.5294 - mean_squared_error: 15.5294\n",
            "Epoch 74/100\n",
            "404/404 [==============================] - 0s 127us/step - loss: 15.3874 - mean_squared_error: 15.3874\n",
            "Epoch 75/100\n",
            "404/404 [==============================] - 0s 154us/step - loss: 15.1992 - mean_squared_error: 15.1992\n",
            "Epoch 76/100\n",
            "404/404 [==============================] - 0s 137us/step - loss: 15.0980 - mean_squared_error: 15.0980\n",
            "Epoch 77/100\n",
            "404/404 [==============================] - 0s 154us/step - loss: 14.9201 - mean_squared_error: 14.9201\n",
            "Epoch 78/100\n",
            "404/404 [==============================] - 0s 145us/step - loss: 14.8469 - mean_squared_error: 14.8469\n",
            "Epoch 79/100\n",
            "404/404 [==============================] - 0s 117us/step - loss: 14.6477 - mean_squared_error: 14.6477\n",
            "Epoch 80/100\n",
            "404/404 [==============================] - 0s 125us/step - loss: 14.5494 - mean_squared_error: 14.5494\n",
            "Epoch 81/100\n",
            "404/404 [==============================] - 0s 156us/step - loss: 14.5185 - mean_squared_error: 14.5185\n",
            "Epoch 82/100\n",
            "404/404 [==============================] - 0s 159us/step - loss: 14.3185 - mean_squared_error: 14.3185\n",
            "Epoch 83/100\n",
            "404/404 [==============================] - 0s 160us/step - loss: 14.1930 - mean_squared_error: 14.1930\n",
            "Epoch 84/100\n",
            "404/404 [==============================] - 0s 162us/step - loss: 14.0728 - mean_squared_error: 14.0728\n",
            "Epoch 85/100\n",
            "404/404 [==============================] - 0s 149us/step - loss: 13.9080 - mean_squared_error: 13.9080\n",
            "Epoch 86/100\n",
            "404/404 [==============================] - 0s 152us/step - loss: 13.9099 - mean_squared_error: 13.9099\n",
            "Epoch 87/100\n",
            "404/404 [==============================] - 0s 175us/step - loss: 13.7745 - mean_squared_error: 13.7745\n",
            "Epoch 88/100\n",
            "404/404 [==============================] - 0s 183us/step - loss: 13.6714 - mean_squared_error: 13.6714\n",
            "Epoch 89/100\n",
            "404/404 [==============================] - 0s 170us/step - loss: 13.5809 - mean_squared_error: 13.5809\n",
            "Epoch 90/100\n",
            "404/404 [==============================] - 0s 169us/step - loss: 13.4448 - mean_squared_error: 13.4448\n",
            "Epoch 91/100\n",
            "404/404 [==============================] - 0s 147us/step - loss: 13.3991 - mean_squared_error: 13.3991\n",
            "Epoch 92/100\n",
            "404/404 [==============================] - 0s 149us/step - loss: 13.3193 - mean_squared_error: 13.3193\n",
            "Epoch 93/100\n",
            "404/404 [==============================] - 0s 192us/step - loss: 13.2956 - mean_squared_error: 13.2956\n",
            "Epoch 94/100\n",
            "404/404 [==============================] - 0s 138us/step - loss: 13.1077 - mean_squared_error: 13.1077\n",
            "Epoch 95/100\n",
            "404/404 [==============================] - 0s 124us/step - loss: 13.0363 - mean_squared_error: 13.0363\n",
            "Epoch 96/100\n",
            "404/404 [==============================] - 0s 143us/step - loss: 13.0150 - mean_squared_error: 13.0150\n",
            "Epoch 97/100\n",
            "404/404 [==============================] - 0s 157us/step - loss: 12.9924 - mean_squared_error: 12.9924\n",
            "Epoch 98/100\n",
            "404/404 [==============================] - 0s 149us/step - loss: 12.8766 - mean_squared_error: 12.8766\n",
            "Epoch 99/100\n",
            "404/404 [==============================] - 0s 147us/step - loss: 12.8294 - mean_squared_error: 12.8294\n",
            "Epoch 100/100\n",
            "404/404 [==============================] - 0s 132us/step - loss: 12.7403 - mean_squared_error: 12.7403\n"
          ],
          "name": "stdout"
        },
        {
          "output_type": "execute_result",
          "data": {
            "text/plain": [
              "<keras.callbacks.History at 0x7f7c431a6a58>"
            ]
          },
          "metadata": {
            "tags": []
          },
          "execution_count": 65
        }
      ]
    },
    {
      "cell_type": "code",
      "metadata": {
        "id": "iKU1yKxkhTF0",
        "colab_type": "code",
        "colab": {}
      },
      "source": [
        ""
      ],
      "execution_count": 0,
      "outputs": []
    },
    {
      "cell_type": "code",
      "metadata": {
        "id": "BZPAQQDNhbeP",
        "colab_type": "code",
        "colab": {}
      },
      "source": [
        ""
      ],
      "execution_count": 0,
      "outputs": []
    },
    {
      "cell_type": "code",
      "metadata": {
        "id": "55dnMmT3heH7",
        "colab_type": "code",
        "colab": {
          "base_uri": "https://localhost:8080/",
          "height": 1000
        },
        "outputId": "77bc8ccd-ebee-4222-c2e9-3d36ca175302"
      },
      "source": [
        "y_pred = regressor.predict(X_test)\n",
        "y_pred "
      ],
      "execution_count": 66,
      "outputs": [
        {
          "output_type": "execute_result",
          "data": {
            "text/plain": [
              "array([[27.559942 ],\n",
              "       [42.952168 ],\n",
              "       [16.785646 ],\n",
              "       [34.148933 ],\n",
              "       [16.867895 ],\n",
              "       [18.821272 ],\n",
              "       [19.60412  ],\n",
              "       [ 8.819736 ],\n",
              "       [34.887367 ],\n",
              "       [23.636135 ],\n",
              "       [ 9.609602 ],\n",
              "       [23.48074  ],\n",
              "       [23.522255 ],\n",
              "       [32.58982  ],\n",
              "       [19.471167 ],\n",
              "       [33.367462 ],\n",
              "       [17.065485 ],\n",
              "       [45.36424  ],\n",
              "       [21.541777 ],\n",
              "       [21.771572 ],\n",
              "       [12.72978  ],\n",
              "       [12.273127 ],\n",
              "       [18.414272 ],\n",
              "       [17.941889 ],\n",
              "       [21.962242 ],\n",
              "       [ 7.791077 ],\n",
              "       [15.960435 ],\n",
              "       [11.288469 ],\n",
              "       [43.010723 ],\n",
              "       [34.132137 ],\n",
              "       [13.3001995],\n",
              "       [17.985579 ],\n",
              "       [22.551353 ],\n",
              "       [22.211939 ],\n",
              "       [22.989752 ],\n",
              "       [28.234121 ],\n",
              "       [24.745047 ],\n",
              "       [14.142331 ],\n",
              "       [19.344501 ],\n",
              "       [33.62846  ],\n",
              "       [24.205484 ],\n",
              "       [20.669573 ],\n",
              "       [13.107282 ],\n",
              "       [47.431515 ],\n",
              "       [22.829018 ],\n",
              "       [34.066612 ],\n",
              "       [11.410512 ],\n",
              "       [19.656054 ],\n",
              "       [12.294499 ],\n",
              "       [17.895885 ],\n",
              "       [23.040977 ],\n",
              "       [21.528837 ],\n",
              "       [18.757881 ],\n",
              "       [11.115103 ],\n",
              "       [14.8564625],\n",
              "       [17.561121 ],\n",
              "       [20.711334 ],\n",
              "       [24.82745  ],\n",
              "       [21.752304 ],\n",
              "       [47.048447 ],\n",
              "       [21.30375  ],\n",
              "       [36.528027 ],\n",
              "       [15.796624 ],\n",
              "       [14.119904 ],\n",
              "       [34.131775 ],\n",
              "       [18.932634 ],\n",
              "       [17.47023  ],\n",
              "       [14.807218 ],\n",
              "       [12.284843 ],\n",
              "       [21.616995 ],\n",
              "       [10.923547 ],\n",
              "       [20.654888 ],\n",
              "       [27.304476 ],\n",
              "       [18.981577 ],\n",
              "       [24.40582  ],\n",
              "       [34.999287 ],\n",
              "       [16.987743 ],\n",
              "       [26.187885 ],\n",
              "       [16.229116 ],\n",
              "       [13.095268 ],\n",
              "       [32.630516 ],\n",
              "       [26.331675 ],\n",
              "       [31.11037  ],\n",
              "       [12.350657 ],\n",
              "       [17.447456 ],\n",
              "       [20.128162 ],\n",
              "       [11.458871 ],\n",
              "       [28.915583 ],\n",
              "       [15.497214 ],\n",
              "       [33.45314  ],\n",
              "       [12.567712 ],\n",
              "       [23.36358  ],\n",
              "       [29.523449 ],\n",
              "       [16.489124 ],\n",
              "       [40.679813 ],\n",
              "       [ 7.842926 ],\n",
              "       [30.848343 ],\n",
              "       [16.300646 ],\n",
              "       [15.747056 ],\n",
              "       [13.512541 ],\n",
              "       [21.075605 ]], dtype=float32)"
            ]
          },
          "metadata": {
            "tags": []
          },
          "execution_count": 66
        }
      ]
    },
    {
      "cell_type": "code",
      "metadata": {
        "id": "NEFzrYVikzC0",
        "colab_type": "code",
        "colab": {
          "base_uri": "https://localhost:8080/",
          "height": 34
        },
        "outputId": "5c76d04a-b201-4d47-ea7b-3fb50c73ad45"
      },
      "source": [
        "from sklearn.metrics import mean_squared_error\n",
        "mean_squared_error(y_test,y_pred)"
      ],
      "execution_count": 67,
      "outputs": [
        {
          "output_type": "execute_result",
          "data": {
            "text/plain": [
              "12.483063356248831"
            ]
          },
          "metadata": {
            "tags": []
          },
          "execution_count": 67
        }
      ]
    },
    {
      "cell_type": "code",
      "metadata": {
        "id": "5TS97dk1nbyf",
        "colab_type": "code",
        "colab": {
          "base_uri": "https://localhost:8080/",
          "height": 34
        },
        "outputId": "fb62130b-82c4-4a2f-e775-6be95666b180"
      },
      "source": [
        "from sklearn.metrics import r2_score\n",
        "r2_score(y_pred,y_test)\n"
      ],
      "execution_count": 68,
      "outputs": [
        {
          "output_type": "execute_result",
          "data": {
            "text/plain": [
              "0.8460203461877995"
            ]
          },
          "metadata": {
            "tags": []
          },
          "execution_count": 68
        }
      ]
    },
    {
      "cell_type": "code",
      "metadata": {
        "id": "Ngi6gvlWonOf",
        "colab_type": "code",
        "colab": {}
      },
      "source": [
        ""
      ],
      "execution_count": 0,
      "outputs": []
    }
  ]
}